{
 "cells": [
  {
   "cell_type": "code",
   "execution_count": 2,
   "metadata": {},
   "outputs": [],
   "source": [
    "import MeCab\n",
    "\n",
    "tagger = MeCab.Tagger()\n",
    "\n",
    "with open('neko.txt', 'r', encoding='utf-8') as f:\n",
    "    text = f.read()\n",
    "    \n",
    "result = tagger.parse(text)\n",
    "\n",
    "with open('neko.txt.mecab', 'w', encoding='utf-8')as fw:\n",
    "    fw.write(result)"
   ]
  },
  {
   "cell_type": "code",
   "execution_count": 13,
   "metadata": {},
   "outputs": [
    {
     "name": "stdout",
     "output_type": "stream",
     "text": [
      "{'surface': '\\u3000', 'base': '\\u3000', 'pos': '記号', 'pos1': '空白'}\n",
      "{'surface': '吾輩', 'base': '吾輩', 'pos': '名詞', 'pos1': '代名詞'}\n",
      "{'surface': 'は', 'base': 'は', 'pos': '助詞', 'pos1': '係助詞'}\n",
      "{'surface': '猫', 'base': '猫', 'pos': '名詞', 'pos1': '一般'}\n",
      "{'surface': 'で', 'base': 'だ', 'pos': '助動詞', 'pos1': '*'}\n",
      "{'surface': 'ある', 'base': 'ある', 'pos': '助動詞', 'pos1': '*'}\n",
      "{'surface': '。', 'base': '。', 'pos': '記号', 'pos1': '句点'}\n"
     ]
    }
   ],
   "source": [
    "import MeCab\n",
    "\n",
    "mecab = MeCab.Tagger()\n",
    "\n",
    "\n",
    "sentences = []\n",
    "morphs = []\n",
    "\n",
    "with open('neko.txt.mecab', 'r') as f:\n",
    "    for line in f:\n",
    "        if line != 'EOS\\n':\n",
    "            fields = line.split('\\t')\n",
    "            if len(fields) != 2 or fields[0] == '':\n",
    "                continue\n",
    "            else:\n",
    "                attr = fields[1].split(',')\n",
    "                morph = {'surface': fields[0], 'base': attr[6], 'pos': attr[0], 'pos1': attr[1]}\n",
    "                morphs.append(morph)\n",
    "        else:\n",
    "            sentences.append(morphs)\n",
    "            morphs = []\n",
    "            \n",
    "for morph in sentences[2]:\n",
    "    print(morph)\n",
    "\n"
   ]
  },
  {
   "cell_type": "markdown",
   "metadata": {},
   "source": [
    "## 31.動詞"
   ]
  },
  {
   "cell_type": "code",
   "execution_count": 38,
   "metadata": {},
   "outputs": [
    {
     "name": "stdout",
     "output_type": "stream",
     "text": [
      "{'surface': '\\u3000', 'base': '\\u3000', 'pos': '記号', 'pos1': '空白'}\n",
      "{'surface': '吾輩', 'base': '吾輩', 'pos': '名詞', 'pos1': '代名詞'}\n",
      "{'surface': 'は', 'base': 'は', 'pos': '助詞', 'pos1': '係助詞'}\n",
      "{'surface': '猫', 'base': '猫', 'pos': '名詞', 'pos1': '一般'}\n",
      "{'surface': 'で', 'base': 'だ', 'pos': '助動詞', 'pos1': '*'}\n",
      "{'surface': 'ある', 'base': 'ある', 'pos': '助動詞', 'pos1': '*'}\n",
      "{'surface': '。', 'base': '。', 'pos': '記号', 'pos1': '句点'}\n"
     ]
    }
   ],
   "source": [
    "import MeCab\n",
    "\n",
    "mecab = MeCab.Tagger()\n",
    "\n",
    "with open('neko.txt.mecab', 'r') as f:\n",
    "    for line in f:\n",
    "        if line != 'EOS\\n':\n",
    "            fields = line.split('\\t')\n",
    "            if len(fields) != 2 or fields[0] == '':\n",
    "                continue\n",
    "            else:\n",
    "                attr = fields[1].split(',')\n",
    "                morph = {'surface': fields[0], 'base': attr[6], 'pos': attr[0], 'pos1': attr[1]}\n",
    "                morphs.append(morph)\n",
    "        else:\n",
    "            sentences.append(morphs)\n",
    "            morphs = []\n",
    "            \n",
    "for morph in sentences[2]:\n",
    "  print(morph)"
   ]
  },
  {
   "cell_type": "code",
   "execution_count": 39,
   "metadata": {},
   "outputs": [
    {
     "name": "stdout",
     "output_type": "stream",
     "text": [
      "29892\n"
     ]
    }
   ],
   "source": [
    "print(len(sentences))"
   ]
  },
  {
   "cell_type": "code",
   "execution_count": 40,
   "metadata": {},
   "outputs": [
    {
     "name": "stdout",
     "output_type": "stream",
     "text": [
      "動詞の表層形の種類 : 3893\n",
      "\n",
      "窺う\n",
      "当っ\n",
      "しかり\n",
      "謡わ\n",
      "違い\n",
      "疲れる\n",
      "隠し\n",
      "立っ\n",
      "足る\n",
      "砕ける\n"
     ]
    }
   ],
   "source": [
    "ans = set()\n",
    "for sentence in sentences:\n",
    "#     print(sentence)\n",
    "    for sense in sentence:\n",
    "#         print(sense)\n",
    "        if sense['pos'] == '動詞':\n",
    "            ans.add(sense['surface'])\n",
    "            \n",
    "print(f'動詞の表層形の種類 : {len(ans)}\\n')\n",
    "for v in list(ans)[:10]:\n",
    "    print(v)"
   ]
  },
  {
   "cell_type": "markdown",
   "metadata": {},
   "source": [
    "## 動詞の基本形"
   ]
  },
  {
   "cell_type": "code",
   "execution_count": 41,
   "metadata": {},
   "outputs": [
    {
     "name": "stdout",
     "output_type": "stream",
     "text": [
      "動詞の基本形の種類 : 5134\n",
      "\n",
      "窺う\n",
      "隠し\n",
      "砕ける\n",
      "張り詰める\n",
      "頼ん\n",
      "蒔き\n",
      "清め\n",
      "繰返す\n",
      "悔やん\n",
      "とろ\n"
     ]
    }
   ],
   "source": [
    "ans32 = set()\n",
    "for sentence in sentences:\n",
    "#     print(sentence)\n",
    "    for sense in sentence:\n",
    "#         print(sense)\n",
    "        if sense['pos'] == '動詞':\n",
    "            ans.add(sense['base'])\n",
    "            \n",
    "print(f'動詞の基本形の種類 : {len(ans)}\\n')\n",
    "for v in list(ans)[:10]:\n",
    "    print(v)"
   ]
  },
  {
   "cell_type": "markdown",
   "metadata": {},
   "source": [
    "## 32. AのB"
   ]
  },
  {
   "cell_type": "code",
   "execution_count": 46,
   "metadata": {},
   "outputs": [
    {
     "name": "stdout",
     "output_type": "stream",
     "text": [
      "「名詞+の+名詞」の種類: 4924\n",
      "\n",
      "---サンプル---\n",
      "皿のカステラ\n",
      "たちの最後\n",
      "彼のアムビション\n",
      "生者必滅の道\n",
      "君の模写\n",
      "家の勢力\n",
      "この間の枝\n",
      "朋友のよう\n",
      "当世の人間\n",
      "君の創作\n"
     ]
    }
   ],
   "source": [
    "ans = set()\n",
    "for sentence in sentences:\n",
    "#     print(sentences[3])\n",
    "    for i in range(1, len(sentence) - 1):\n",
    "        if sentence[i-1]['pos'] == '名詞' and sentence[i]['surface'] == 'の' and sentence[i+1]['pos'] == '名詞':\n",
    "            ans.add(sentence[i - 1]['surface'] + sentence[i]['surface'] + sentence[i + 1]['surface'])\n",
    "\n",
    "# 確認\n",
    "print(f'「名詞+の+名詞」の種類: {len(ans)}\\n')\n",
    "print('---サンプル---')\n",
    "for n in list(ans)[:10]:\n",
    "  print(n)"
   ]
  },
  {
   "cell_type": "markdown",
   "metadata": {},
   "source": [
    "## 名詞の連接"
   ]
  },
  {
   "cell_type": "code",
   "execution_count": 55,
   "metadata": {},
   "outputs": [
    {
     "name": "stdout",
     "output_type": "stream",
     "text": [
      "連接名詞の種類: 5579\n",
      "\n",
      "---サンプル---\n",
      "大分神秘的\n",
      "一番遠慮\n",
      "敷居越\n",
      "悪事千里\n",
      "埼玉生れ\n",
      "青軸\n",
      "阿倍川餅\n",
      "二十七銭\n",
      "座敷中\n",
      "それぎり音\n"
     ]
    }
   ],
   "source": [
    "ans = set()\n",
    "\n",
    "for sentence in sentences:\n",
    "    nouns = ''\n",
    "    num = 0\n",
    "    for s in sentence:\n",
    "        if s['pos'] == '名詞':\n",
    "            num += 1\n",
    "            nouns += s['surface']\n",
    "#         print(nouns)\n",
    "        elif num >= 2 :\n",
    "           ans.add(nouns)\n",
    "           nouns = ''\n",
    "           num = 0\n",
    "        else:\n",
    "            nouns = ''\n",
    "            num = 0\n",
    "        if num >= 2:\n",
    "            ans.add(nouns)\n",
    "\n",
    "print(f'連接名詞の種類: {len(ans)}\\n')\n",
    "print('---サンプル---')\n",
    "for n in list(ans)[:10]:\n",
    "  print(n)"
   ]
  },
  {
   "cell_type": "markdown",
   "metadata": {},
   "source": [
    "## 35.単語の出現頻度"
   ]
  },
  {
   "cell_type": "code",
   "execution_count": 63,
   "metadata": {},
   "outputs": [
    {
     "name": "stdout",
     "output_type": "stream",
     "text": [
      "[('の', 27582), ('。', 22458), ('て', 20604), ('、', 20316), ('は', 19260), ('に', 18729), ('を', 18213), ('と', 16524), ('が', 16011), ('た', 11964)]\n"
     ]
    }
   ],
   "source": [
    "ans = set()\n",
    "\n",
    "words = []\n",
    "counts = []\n",
    "for sentence in sentences:\n",
    "    for s in sentence:\n",
    "        if s['surface'] in words:\n",
    "            counts[words.index(s['surface'])] += 1\n",
    "        else:\n",
    "            words.append(s['surface'])\n",
    "            counts.append(1)\n",
    "\n",
    "words_count = dict(zip(words, counts))\n",
    "words_count_rank = sorted(words_count.items(), key=lambda x:x[1], reverse=True)\n",
    "print(words_count_rank[:10])\n",
    "    \n"
   ]
  },
  {
   "cell_type": "markdown",
   "metadata": {},
   "source": [
    "## 頻度上位10語"
   ]
  },
  {
   "cell_type": "code",
   "execution_count": 79,
   "metadata": {},
   "outputs": [
    {
     "name": "stdout",
     "output_type": "stream",
     "text": [
      "{'の': 27582, '。': 22458, 'て': 20604, '、': 20316, 'は': 19260, 'に': 18729, 'を': 18213, 'と': 16524, 'が': 16011, 'た': 11964}\n"
     ]
    },
    {
     "data": {
      "image/png": "[encoded data removed]",
      "text/plain": [
       "<Figure size 432x288 with 1 Axes>"
      ]
     },
     "metadata": {
      "needs_background": "light"
     },
     "output_type": "display_data"
    }
   ],
   "source": [
    "import matplotlib.pyplot as plt\n",
    "import japanize_matplotlib\n",
    "\n",
    "words_dict = dict(words_count_rank[:10])\n",
    "print(words_dict)\n",
    "words_graph = plt.bar(list(words_dict.keys()), list(words_dict.values()))\n",
    "plt.show()\n"
   ]
  },
  {
   "cell_type": "markdown",
   "metadata": {},
   "source": [
    "## 37.猫と共起頻度の高い上位10語"
   ]
  },
  {
   "cell_type": "code",
   "execution_count": 85,
   "metadata": {},
   "outputs": [
    {
     "data": {
      "image/png": "[encoded data removed]",
      "text/plain": [
       "<Figure size 432x288 with 1 Axes>"
      ]
     },
     "metadata": {
      "needs_background": "light"
     },
     "output_type": "display_data"
    }
   ],
   "source": [
    "import matplotlib.pyplot as plt\n",
    "from collections import defaultdict\n",
    "ans = defaultdict(int)\n",
    "\n",
    "# print(sentences[:10])\n",
    "\n",
    "for sentence in sentences:\n",
    "    for i, s in enumerate(sentence):\n",
    "        if s['surface'] == '猫':\n",
    "            pre_word = sentence[i-1]['surface']\n",
    "            aft_word = sentence[i+1]['surface']    \n",
    "            ans[pre_word] += 1\n",
    "            ans[aft_word] += 1\n",
    "            \n",
    "ans = sorted(ans.items(), key=lambda x: x[1], reverse=True)\n",
    "            \n",
    "cat_counts = dict(ans[:10]) \n",
    "cat_graph = plt.bar(list(cat_counts.keys()), list(cat_counts.values()))\n",
    "plt.show()"
   ]
  },
  {
   "cell_type": "markdown",
   "metadata": {},
   "source": [
    "## ヒストグラム"
   ]
  },
  {
   "cell_type": "code",
   "execution_count": 89,
   "metadata": {},
   "outputs": [
    {
     "data": {
      "image/png": "[encoded data removed]",
      "text/plain": [
       "<Figure size 432x288 with 1 Axes>"
      ]
     },
     "metadata": {
      "needs_background": "light"
     },
     "output_type": "display_data"
    }
   ],
   "source": [
    "all_words_dict = dict(words_count_rank)\n",
    "\n",
    "plt.hist(list(all_words_dict.values()), bins=100)\n",
    "plt.show()"
   ]
  },
  {
   "cell_type": "code",
   "execution_count": 90,
   "metadata": {},
   "outputs": [
    {
     "data": {
      "image/png": "[encoded data removed]",
      "text/plain": [
       "<Figure size 576x288 with 1 Axes>"
      ]
     },
     "metadata": {
      "needs_background": "light"
     },
     "output_type": "display_data"
    }
   ],
   "source": [
    "\n",
    "ranks = [w+1 for w in range(len(words_count_rank))]\n",
    "values = [x[1] for x in words_count_rank]\n",
    "plt.figure(figsize=(8, 4))\n",
    "plt.scatter(ranks, values)\n",
    "plt.xscale('log')\n",
    "plt.yscale('log')\n",
    "plt.xlabel('出現頻度順位')\n",
    "plt.ylabel('出現頻度')\n",
    "plt.show()"
   ]
  },
  {
   "cell_type": "code",
   "execution_count": null,
   "metadata": {},
   "outputs": [],
   "source": []
  }
 ],
 "metadata": {
  "kernelspec": {
   "display_name": "Python 3",
   "language": "python",
   "name": "python3"
  },
  "language_info": {
   "codemirror_mode": {
    "name": "ipython",
    "version": 3
   },
   "file_extension": ".py",
   "mimetype": "text/x-python",
   "name": "python",
   "nbconvert_exporter": "python",
   "pygments_lexer": "ipython3",
   "version": "3.8.3"
  }
 },
 "nbformat": 4,
 "nbformat_minor": 4
}
