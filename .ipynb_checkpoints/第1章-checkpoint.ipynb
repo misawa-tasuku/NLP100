{
 "cells": [
  {
   "cell_type": "markdown",
   "metadata": {},
   "source": [
    "# 文字列の逆順"
   ]
  },
  {
   "cell_type": "markdown",
   "metadata": {},
   "source": [
    "### "
   ]
  },
  {
   "cell_type": "code",
   "execution_count": 7,
   "metadata": {},
   "outputs": [
    {
     "name": "stdout",
     "output_type": "stream",
     "text": [
      "desserts\n"
     ]
    }
   ],
   "source": [
    "text = 'stressed'\n",
    "print(text[::-1])"
   ]
  },
  {
   "cell_type": "code",
   "execution_count": 10,
   "metadata": {},
   "outputs": [
    {
     "name": "stdout",
     "output_type": "stream",
     "text": [
      "パトカー\n"
     ]
    }
   ],
   "source": [
    "text = 'パタトクカシーー'\n",
    "print(text[::2])"
   ]
  },
  {
   "cell_type": "code",
   "execution_count": 16,
   "metadata": {},
   "outputs": [
    {
     "name": "stdout",
     "output_type": "stream",
     "text": [
      "パタトクカシーー\n"
     ]
    }
   ],
   "source": [
    "text1 = 'パトカー'\n",
    "text2 = 'タクシー'\n",
    "text = [i + j for i, j in zip(text1, text2)]\n",
    "print(''.join(text))"
   ]
  },
  {
   "cell_type": "code",
   "execution_count": 22,
   "metadata": {},
   "outputs": [
    {
     "name": "stdout",
     "output_type": "stream",
     "text": [
      "[3, 1, 4, 1, 5, 9, 2, 6, 5, 3, 5, 8, 9, 7, 9]\n"
     ]
    }
   ],
   "source": [
    "import re \n",
    "text = 'Now I need a drink, alcoholic of course, after the heavy lectures involving quantum mechanics.'\n",
    "text_list = text.split()\n",
    "\n",
    "text_list = [len(re.sub(r\"[, .]\", '', t)) for t in text_list]\n",
    "\n",
    "print(text_list)"
   ]
  },
  {
   "cell_type": "markdown",
   "metadata": {},
   "source": [
    "### 元素記号"
   ]
  },
  {
   "cell_type": "code",
   "execution_count": 33,
   "metadata": {},
   "outputs": [
    {
     "name": "stdout",
     "output_type": "stream",
     "text": [
      "{'H': 1, 'He': 2, 'Li': 3, 'Be': 4, 'B': 5, 'C': 6, 'N': 7, 'O': 8, 'F': 9, 'Ne': 10, 'Na': 11, 'Mi': 12, 'Al': 13, 'Si': 14, 'P': 15, 'S': 16, 'Cl': 17, 'Ar': 18, 'K': 19, 'Ca': 20}\n"
     ]
    }
   ],
   "source": [
    "text = 'Hi He Lied Because Boron Could Not Oxidize Fluorine. New Nations Might Also Sign Peace Security Clause. Arthur King Can.'\n",
    "text = re.sub(r'[. ,]', ' ', text)\n",
    "num_list = [1, 5, 6, 7, 8, 9, 15, 16, 19]\n",
    "\n",
    "text_list = text.split()\n",
    "key = []\n",
    "value = []\n",
    "for i, e in enumerate(text_list):\n",
    "    if i+1 in num_list:\n",
    "        key.append(e[0])\n",
    "        value.append(i+1)\n",
    "    else:\n",
    "        key.append(e[:2])\n",
    "        value.append(i+1)\n",
    "\n",
    "text_dict = dict(zip(key, value))\n",
    "print(text_dict)"
   ]
  },
  {
   "cell_type": "markdown",
   "metadata": {},
   "source": [
    "### n-gram"
   ]
  },
  {
   "cell_type": "code",
   "execution_count": 34,
   "metadata": {},
   "outputs": [
    {
     "data": {
      "text/plain": [
       "{'I': 1, 'am': 2, 'an': 3, 'NLPer': 4}"
      ]
     },
     "execution_count": 34,
     "metadata": {},
     "output_type": "execute_result"
    }
   ],
   "source": [
    "def n_gram(text):\n",
    "    text_list = text.split()\n",
    "    n_gram ={}\n",
    "    for i, word in enumerate(text_list):\n",
    "        n_gram[word] = i + 1\n",
    "    \n",
    "    return n_gram\n",
    "\n",
    "n_gram('I am an NLPer')"
   ]
  },
  {
   "cell_type": "code",
   "execution_count": 47,
   "metadata": {},
   "outputs": [
    {
     "name": "stdout",
     "output_type": "stream",
     "text": [
      "単語bi-gram: [('I', 'am'), ('am', 'an'), ('an', 'NLPer')]\n",
      "文字bi-gram: [('I', ' '), (' ', 'a'), ('a', 'm'), ('m', ' '), (' ', 'a'), ('a', 'n'), ('n', ' '), (' ', 'N'), ('N', 'L'), ('L', 'P'), ('P', 'e'), ('e', 'r')]\n"
     ]
    }
   ],
   "source": [
    "def ngram(n, lst):\n",
    "    return list(zip(*[lst[i:] for i in range(n)]))\n",
    "\n",
    "str = 'I am an NLPer'\n",
    "words_bi_gram = ngram(2, str.split())\n",
    "chars_bi_gram = ngram(2, str)\n",
    "\n",
    "print('単語bi-gram:', words_bi_gram)\n",
    "print('文字bi-gram:', chars_bi_gram)"
   ]
  },
  {
   "cell_type": "code",
   "execution_count": 52,
   "metadata": {},
   "outputs": [
    {
     "name": "stdout",
     "output_type": "stream",
     "text": [
      "I   a m   a n   N L P e r\n",
      "  a m   a n   N L P e r\n"
     ]
    }
   ],
   "source": [
    "test = 'I am an NLPer'\n",
    "\n",
    "for i in range(2):\n",
    "    print(*(test[i:]))"
   ]
  },
  {
   "cell_type": "markdown",
   "metadata": {},
   "source": [
    "### 集合"
   ]
  },
  {
   "cell_type": "code",
   "execution_count": 48,
   "metadata": {},
   "outputs": [
    {
     "name": "stdout",
     "output_type": "stream",
     "text": [
      "X: {('r', 'a'), ('d', 'i'), ('s', 'e'), ('p', 'a'), ('a', 'd'), ('a', 'p'), ('i', 's'), ('a', 'r')}\n",
      "Y: {('r', 'a'), ('p', 'a'), ('a', 'g'), ('a', 'p'), ('g', 'r'), ('a', 'r'), ('p', 'h')}\n",
      "和集合: {('r', 'a'), ('d', 'i'), ('s', 'e'), ('p', 'a'), ('a', 'g'), ('a', 'd'), ('a', 'p'), ('i', 's'), ('g', 'r'), ('a', 'r'), ('p', 'h')}\n",
      "積集合: {('r', 'a'), ('p', 'a'), ('a', 'p'), ('a', 'r')}\n",
      "差集合: {('s', 'e'), ('a', 'd'), ('d', 'i'), ('i', 's')}\n",
      "Xにseが含まれるか: True\n",
      "Yにseが含まれるか: False\n"
     ]
    }
   ],
   "source": [
    "str1 = 'paraparaparadise'\n",
    "str2 = 'paragraph'\n",
    "\n",
    "X = set(ngram(2, str1))\n",
    "Y = set(ngram(2, str2))\n",
    "\n",
    "union = X | Y\n",
    "intersection = X & Y\n",
    "difference = X - Y\n",
    "\n",
    "print('X:', X)\n",
    "print('Y:', Y)\n",
    "print('和集合:', union)\n",
    "print('積集合:', intersection)\n",
    "print('差集合:', difference)\n",
    "print('Xにseが含まれるか:', {('s', 'e')} <= X)\n",
    "print('Yにseが含まれるか:', {('s', 'e')} <= Y)"
   ]
  },
  {
   "cell_type": "markdown",
   "metadata": {},
   "source": [
    "### テンプレートによる文生成"
   ]
  },
  {
   "cell_type": "code",
   "execution_count": 59,
   "metadata": {},
   "outputs": [
    {
     "data": {
      "text/plain": [
       "'12時の気温は22.4'"
      ]
     },
     "execution_count": 59,
     "metadata": {},
     "output_type": "execute_result"
    }
   ],
   "source": [
    "def make_sentence(x, y, z):\n",
    "    return \"{0}時の{1}は{2}\".format(x, y, z)\n",
    "\n",
    "make_sentence(12, '気温', 22.4)"
   ]
  },
  {
   "cell_type": "markdown",
   "metadata": {},
   "source": [
    "### 暗号文"
   ]
  },
  {
   "cell_type": "code",
   "execution_count": 67,
   "metadata": {},
   "outputs": [
    {
     "name": "stdout",
     "output_type": "stream",
     "text": [
      "AAAAAh\n"
     ]
    }
   ],
   "source": [
    "def ciper(text):\n",
    "    new_seq_list = []\n",
    "    for i in text:\n",
    "        if i.islower():\n",
    "            new_seq_list.append(chr(219-ord(i)))\n",
    "        else:\n",
    "            new_seq_list.append(i)\n",
    "    return new_seq_list\n",
    "\n",
    "\n",
    "new_text_list = ciper('AAAAAs')\n",
    "ans = ''.join(new_text_list)\n",
    "print(ans)"
   ]
  },
  {
   "cell_type": "markdown",
   "metadata": {},
   "source": [
    "### Typoglycemia"
   ]
  },
  {
   "cell_type": "code",
   "execution_count": 71,
   "metadata": {},
   "outputs": [
    {
     "name": "stdout",
     "output_type": "stream",
     "text": [
      "I cu’ondlt bieevle that I cloud altaculy urnatsendd what I was riendag : the pehomannel pweor of the haumn mind .\n"
     ]
    }
   ],
   "source": [
    "import random\n",
    "\n",
    "def shuffle(text):\n",
    "    result = []\n",
    "    for word in text.split():\n",
    "        if len(word) > 4:\n",
    "            word = word[:1] + ''.join(random.sample(word[1:-1], len(word)- 2)) + word[-1:]\n",
    "        result.append(word)\n",
    "        \n",
    "    return ' '.join(result)\n",
    "\n",
    "\n",
    "\n",
    "text = 'I couldn’t believe that I could actually understand what I was reading : the phenomenal power of the human mind .'\n",
    "\n",
    "ans = shuffle(text)\n",
    "print(ans)\n",
    "    "
   ]
  },
  {
   "cell_type": "code",
   "execution_count": null,
   "metadata": {},
   "outputs": [],
   "source": []
  }
 ],
 "metadata": {
  "kernelspec": {
   "display_name": "Python 3",
   "language": "python",
   "name": "python3"
  },
  "language_info": {
   "codemirror_mode": {
    "name": "ipython",
    "version": 3
   },
   "file_extension": ".py",
   "mimetype": "text/x-python",
   "name": "python",
   "nbconvert_exporter": "python",
   "pygments_lexer": "ipython3",
   "version": "3.8.3"
  }
 },
 "nbformat": 4,
 "nbformat_minor": 4
}
